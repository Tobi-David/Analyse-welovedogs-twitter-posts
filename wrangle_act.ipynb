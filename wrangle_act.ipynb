{
 "cells": [
  {
   "source": [
    "# Project: Investigate The Soccer Dataset \n",
    "\n",
    "## Table of Contents\n",
    "<ul>\n",
    "<li><a href=\"#intro\">Introduction</a></li>\n",
    "<li><a href=\"#wrangling\">Data Wrangling</a></li>\n",
    "<li><a href=\"#eda\">Exploratory Data Analysis</a></li>\n",
    "<li><a href=\"#conclusions\">Conclusions</a></li>\n",
    "</ul>"
   ],
   "cell_type": "markdown",
   "metadata": {}
  },
  {
   "source": [
    "<a id='intro'></a>\n",
    "## Introduction\n",
    "\n",
    "> This soccer database comes from Kaggle. It contains data for soccer matches, players, and teams from several European countries from 2008 to 2016.it is stored in an SQLite database.\n",
    ">\n",
    "> The following are questions to be explored using this dataset:\n",
    "\n",
    ">><li>Most popular dog name\n",
    ">><li>Do home teams win more games than away teams\n",
    ">><li>The teams with the most wins in each League in the 2014/2015 season\n",
    ">><li>Did players in 2016 meet the potential set for them in 2008\n",
    ">><li>What age range has the highest average rating"
   ],
   "cell_type": "markdown",
   "metadata": {}
  },
  {
   "source": [
    "<a id='wrangling'></a>\n",
    "\n",
    "## Data wrangling\n",
    "<ul>\n",
    "<li><a href=\"#gathering\">Gathering Data</a></li>\n",
    "<li><a href=\"#assess\">Assessing Data</a></li>\n",
    "<li><a href=\"#cleaning\">Cleaning Data</a></li>\n",
    "</ul>"
   ],
   "cell_type": "markdown",
   "metadata": {}
  },
  {
   "source": [
    "### Importing libraries"
   ],
   "cell_type": "markdown",
   "metadata": {}
  },
  {
   "cell_type": "code",
   "execution_count": 71,
   "metadata": {},
   "outputs": [],
   "source": [
    "import pandas as pd\n",
    "import numpy as np\n",
    "import json\n",
    "import ast"
   ]
  },
  {
   "source": [
    "<a id='gathering'></a>\n",
    "### Gathering Data"
   ],
   "cell_type": "markdown",
   "metadata": {}
  },
  {
   "cell_type": "code",
   "execution_count": 72,
   "metadata": {},
   "outputs": [],
   "source": [
    "dogs_info = pd.read_csv('twitter-archive-enhanced.csv')\n",
    "image_predictions = pd.read_csv('image-predictions.tsv',sep = '\\t')"
   ]
  },
  {
   "cell_type": "code",
   "execution_count": 115,
   "metadata": {},
   "outputs": [],
   "source": [
    "tweet_info = pd.DataFrame()\n",
    "id = []\n",
    "favorite_count = []\n",
    "retweet_count = []\n",
    "text = []\n",
    "with open('tweet-json.txt', 'r') as json_data:\n",
    "    for x in json_data:\n",
    "        data = json.loads(x)\n",
    "        id.append(data.get('id'))\n",
    "        favorite_count.append(data.get('favorite_count'))\n",
    "        retweet_count.append(data.get('retweet_count'))\n"
   ]
  },
  {
   "cell_type": "code",
   "execution_count": 116,
   "metadata": {},
   "outputs": [],
   "source": [
    "tweet_info['id'] = id\n",
    "tweet_info['favorite_count'] = favorite_count\n",
    "tweet_info['retweet_count'] = retweet_count"
   ]
  },
  {
   "cell_type": "code",
   "execution_count": 117,
   "metadata": {},
   "outputs": [
    {
     "output_type": "execute_result",
     "data": {
      "text/plain": [
       "                      id  favorite_count  retweet_count\n",
       "0     892420643555336193           39467           8853\n",
       "1     892177421306343426           33819           6514\n",
       "2     891815181378084864           25461           4328\n",
       "3     891689557279858688           42908           8964\n",
       "4     891327558926688256           41048           9774\n",
       "...                  ...             ...            ...\n",
       "2349  666049248165822465             111             41\n",
       "2350  666044226329800704             311            147\n",
       "2351  666033412701032449             128             47\n",
       "2352  666029285002620928             132             48\n",
       "2353  666020888022790149            2535            532\n",
       "\n",
       "[2354 rows x 3 columns]"
      ],
      "text/html": "<div>\n<style scoped>\n    .dataframe tbody tr th:only-of-type {\n        vertical-align: middle;\n    }\n\n    .dataframe tbody tr th {\n        vertical-align: top;\n    }\n\n    .dataframe thead th {\n        text-align: right;\n    }\n</style>\n<table border=\"1\" class=\"dataframe\">\n  <thead>\n    <tr style=\"text-align: right;\">\n      <th></th>\n      <th>id</th>\n      <th>favorite_count</th>\n      <th>retweet_count</th>\n    </tr>\n  </thead>\n  <tbody>\n    <tr>\n      <th>0</th>\n      <td>892420643555336193</td>\n      <td>39467</td>\n      <td>8853</td>\n    </tr>\n    <tr>\n      <th>1</th>\n      <td>892177421306343426</td>\n      <td>33819</td>\n      <td>6514</td>\n    </tr>\n    <tr>\n      <th>2</th>\n      <td>891815181378084864</td>\n      <td>25461</td>\n      <td>4328</td>\n    </tr>\n    <tr>\n      <th>3</th>\n      <td>891689557279858688</td>\n      <td>42908</td>\n      <td>8964</td>\n    </tr>\n    <tr>\n      <th>4</th>\n      <td>891327558926688256</td>\n      <td>41048</td>\n      <td>9774</td>\n    </tr>\n    <tr>\n      <th>...</th>\n      <td>...</td>\n      <td>...</td>\n      <td>...</td>\n    </tr>\n    <tr>\n      <th>2349</th>\n      <td>666049248165822465</td>\n      <td>111</td>\n      <td>41</td>\n    </tr>\n    <tr>\n      <th>2350</th>\n      <td>666044226329800704</td>\n      <td>311</td>\n      <td>147</td>\n    </tr>\n    <tr>\n      <th>2351</th>\n      <td>666033412701032449</td>\n      <td>128</td>\n      <td>47</td>\n    </tr>\n    <tr>\n      <th>2352</th>\n      <td>666029285002620928</td>\n      <td>132</td>\n      <td>48</td>\n    </tr>\n    <tr>\n      <th>2353</th>\n      <td>666020888022790149</td>\n      <td>2535</td>\n      <td>532</td>\n    </tr>\n  </tbody>\n</table>\n<p>2354 rows × 3 columns</p>\n</div>"
     },
     "metadata": {},
     "execution_count": 117
    }
   ],
   "source": [
    "tweet_info"
   ]
  },
  {
   "source": [
    "<a id='assess'></a>\n",
    "\n",
    "### Assessing Data"
   ],
   "cell_type": "markdown",
   "metadata": {}
  },
  {
   "cell_type": "code",
   "execution_count": 76,
   "metadata": {},
   "outputs": [
    {
     "output_type": "execute_result",
     "data": {
      "text/plain": [
       "               tweet_id  in_reply_to_status_id  in_reply_to_user_id  \\\n",
       "320  834458053273591808                    NaN                  NaN   \n",
       "716  783821107061198850                    NaN                  NaN   \n",
       "549  805207613751304193                    NaN                  NaN   \n",
       "276  840632337062862849                    NaN                  NaN   \n",
       "169  859196978902773760                    NaN                  NaN   \n",
       "\n",
       "                     timestamp  \\\n",
       "320  2017-02-22 17:41:18 +0000   \n",
       "716  2016-10-06 00:08:09 +0000   \n",
       "549  2016-12-04 00:30:29 +0000   \n",
       "276  2017-03-11 18:35:42 +0000   \n",
       "169  2017-05-02 00:04:57 +0000   \n",
       "\n",
       "                                                source  \\\n",
       "320  <a href=\"http://twitter.com/download/iphone\" r...   \n",
       "716  <a href=\"http://twitter.com/download/iphone\" r...   \n",
       "549  <a href=\"http://twitter.com/download/iphone\" r...   \n",
       "276  <a href=\"http://twitter.com/download/iphone\" r...   \n",
       "169  <a href=\"http://twitter.com/download/iphone\" r...   \n",
       "\n",
       "                                                  text  retweeted_status_id  \\\n",
       "320  Meet Chester (bottom) &amp; Harold (top). They...                  NaN   \n",
       "716  This is Mairi. She has mastered the art of cam...                  NaN   \n",
       "549  This is Shooter. He's doing quite the snowy zo...                  NaN   \n",
       "276  Say hello to Maddie and Gunner. They are consi...                  NaN   \n",
       "169  We only rate dogs. This is quite clearly a smo...                  NaN   \n",
       "\n",
       "     retweeted_status_user_id retweeted_status_timestamp  \\\n",
       "320                       NaN                        NaN   \n",
       "716                       NaN                        NaN   \n",
       "549                       NaN                        NaN   \n",
       "276                       NaN                        NaN   \n",
       "169                       NaN                        NaN   \n",
       "\n",
       "                                         expanded_urls  rating_numerator  \\\n",
       "320  https://twitter.com/dog_rates/status/834458053...                12   \n",
       "716  https://twitter.com/dog_rates/status/783821107...                12   \n",
       "549  https://twitter.com/dog_rates/status/805207613...                12   \n",
       "276  https://www.gofundme.com/3hgsuu0,https://twitt...                12   \n",
       "169  https://twitter.com/dog_rates/status/859196978...                12   \n",
       "\n",
       "     rating_denominator     name doggo floofer pupper puppo  \n",
       "320                  10  Chester  None    None   None  None  \n",
       "716                  10    Mairi  None    None   None  None  \n",
       "549                  10  Shooter  None    None   None  None  \n",
       "276                  10   Maddie  None    None   None  None  \n",
       "169                  10    quite  None    None   None  None  "
      ],
      "text/html": "<div>\n<style scoped>\n    .dataframe tbody tr th:only-of-type {\n        vertical-align: middle;\n    }\n\n    .dataframe tbody tr th {\n        vertical-align: top;\n    }\n\n    .dataframe thead th {\n        text-align: right;\n    }\n</style>\n<table border=\"1\" class=\"dataframe\">\n  <thead>\n    <tr style=\"text-align: right;\">\n      <th></th>\n      <th>tweet_id</th>\n      <th>in_reply_to_status_id</th>\n      <th>in_reply_to_user_id</th>\n      <th>timestamp</th>\n      <th>source</th>\n      <th>text</th>\n      <th>retweeted_status_id</th>\n      <th>retweeted_status_user_id</th>\n      <th>retweeted_status_timestamp</th>\n      <th>expanded_urls</th>\n      <th>rating_numerator</th>\n      <th>rating_denominator</th>\n      <th>name</th>\n      <th>doggo</th>\n      <th>floofer</th>\n      <th>pupper</th>\n      <th>puppo</th>\n    </tr>\n  </thead>\n  <tbody>\n    <tr>\n      <th>320</th>\n      <td>834458053273591808</td>\n      <td>NaN</td>\n      <td>NaN</td>\n      <td>2017-02-22 17:41:18 +0000</td>\n      <td>&lt;a href=\"http://twitter.com/download/iphone\" r...</td>\n      <td>Meet Chester (bottom) &amp;amp; Harold (top). They...</td>\n      <td>NaN</td>\n      <td>NaN</td>\n      <td>NaN</td>\n      <td>https://twitter.com/dog_rates/status/834458053...</td>\n      <td>12</td>\n      <td>10</td>\n      <td>Chester</td>\n      <td>None</td>\n      <td>None</td>\n      <td>None</td>\n      <td>None</td>\n    </tr>\n    <tr>\n      <th>716</th>\n      <td>783821107061198850</td>\n      <td>NaN</td>\n      <td>NaN</td>\n      <td>2016-10-06 00:08:09 +0000</td>\n      <td>&lt;a href=\"http://twitter.com/download/iphone\" r...</td>\n      <td>This is Mairi. She has mastered the art of cam...</td>\n      <td>NaN</td>\n      <td>NaN</td>\n      <td>NaN</td>\n      <td>https://twitter.com/dog_rates/status/783821107...</td>\n      <td>12</td>\n      <td>10</td>\n      <td>Mairi</td>\n      <td>None</td>\n      <td>None</td>\n      <td>None</td>\n      <td>None</td>\n    </tr>\n    <tr>\n      <th>549</th>\n      <td>805207613751304193</td>\n      <td>NaN</td>\n      <td>NaN</td>\n      <td>2016-12-04 00:30:29 +0000</td>\n      <td>&lt;a href=\"http://twitter.com/download/iphone\" r...</td>\n      <td>This is Shooter. He's doing quite the snowy zo...</td>\n      <td>NaN</td>\n      <td>NaN</td>\n      <td>NaN</td>\n      <td>https://twitter.com/dog_rates/status/805207613...</td>\n      <td>12</td>\n      <td>10</td>\n      <td>Shooter</td>\n      <td>None</td>\n      <td>None</td>\n      <td>None</td>\n      <td>None</td>\n    </tr>\n    <tr>\n      <th>276</th>\n      <td>840632337062862849</td>\n      <td>NaN</td>\n      <td>NaN</td>\n      <td>2017-03-11 18:35:42 +0000</td>\n      <td>&lt;a href=\"http://twitter.com/download/iphone\" r...</td>\n      <td>Say hello to Maddie and Gunner. They are consi...</td>\n      <td>NaN</td>\n      <td>NaN</td>\n      <td>NaN</td>\n      <td>https://www.gofundme.com/3hgsuu0,https://twitt...</td>\n      <td>12</td>\n      <td>10</td>\n      <td>Maddie</td>\n      <td>None</td>\n      <td>None</td>\n      <td>None</td>\n      <td>None</td>\n    </tr>\n    <tr>\n      <th>169</th>\n      <td>859196978902773760</td>\n      <td>NaN</td>\n      <td>NaN</td>\n      <td>2017-05-02 00:04:57 +0000</td>\n      <td>&lt;a href=\"http://twitter.com/download/iphone\" r...</td>\n      <td>We only rate dogs. This is quite clearly a smo...</td>\n      <td>NaN</td>\n      <td>NaN</td>\n      <td>NaN</td>\n      <td>https://twitter.com/dog_rates/status/859196978...</td>\n      <td>12</td>\n      <td>10</td>\n      <td>quite</td>\n      <td>None</td>\n      <td>None</td>\n      <td>None</td>\n      <td>None</td>\n    </tr>\n  </tbody>\n</table>\n</div>"
     },
     "metadata": {},
     "execution_count": 76
    }
   ],
   "source": [
    "dogs_info.sample(5)"
   ]
  },
  {
   "cell_type": "code",
   "execution_count": 77,
   "metadata": {},
   "outputs": [
    {
     "output_type": "stream",
     "name": "stdout",
     "text": [
      "<class 'pandas.core.frame.DataFrame'>\nRangeIndex: 2356 entries, 0 to 2355\nData columns (total 17 columns):\n #   Column                      Non-Null Count  Dtype  \n---  ------                      --------------  -----  \n 0   tweet_id                    2356 non-null   int64  \n 1   in_reply_to_status_id       78 non-null     float64\n 2   in_reply_to_user_id         78 non-null     float64\n 3   timestamp                   2356 non-null   object \n 4   source                      2356 non-null   object \n 5   text                        2356 non-null   object \n 6   retweeted_status_id         181 non-null    float64\n 7   retweeted_status_user_id    181 non-null    float64\n 8   retweeted_status_timestamp  181 non-null    object \n 9   expanded_urls               2297 non-null   object \n 10  rating_numerator            2356 non-null   int64  \n 11  rating_denominator          2356 non-null   int64  \n 12  name                        2356 non-null   object \n 13  doggo                       2356 non-null   object \n 14  floofer                     2356 non-null   object \n 15  pupper                      2356 non-null   object \n 16  puppo                       2356 non-null   object \ndtypes: float64(4), int64(3), object(10)\nmemory usage: 313.0+ KB\n"
     ]
    }
   ],
   "source": [
    "dogs_info.info()"
   ]
  },
  {
   "cell_type": "code",
   "execution_count": 78,
   "metadata": {},
   "outputs": [
    {
     "output_type": "execute_result",
     "data": {
      "text/plain": [
       "           tweet_id  in_reply_to_status_id  in_reply_to_user_id  \\\n",
       "count  2.356000e+03           7.800000e+01         7.800000e+01   \n",
       "mean   7.427716e+17           7.455079e+17         2.014171e+16   \n",
       "std    6.856705e+16           7.582492e+16         1.252797e+17   \n",
       "min    6.660209e+17           6.658147e+17         1.185634e+07   \n",
       "25%    6.783989e+17           6.757419e+17         3.086374e+08   \n",
       "50%    7.196279e+17           7.038708e+17         4.196984e+09   \n",
       "75%    7.993373e+17           8.257804e+17         4.196984e+09   \n",
       "max    8.924206e+17           8.862664e+17         8.405479e+17   \n",
       "\n",
       "       retweeted_status_id  retweeted_status_user_id  rating_numerator  \\\n",
       "count         1.810000e+02              1.810000e+02       2356.000000   \n",
       "mean          7.720400e+17              1.241698e+16         13.126486   \n",
       "std           6.236928e+16              9.599254e+16         45.876648   \n",
       "min           6.661041e+17              7.832140e+05          0.000000   \n",
       "25%           7.186315e+17              4.196984e+09         10.000000   \n",
       "50%           7.804657e+17              4.196984e+09         11.000000   \n",
       "75%           8.203146e+17              4.196984e+09         12.000000   \n",
       "max           8.874740e+17              7.874618e+17       1776.000000   \n",
       "\n",
       "       rating_denominator  \n",
       "count         2356.000000  \n",
       "mean            10.455433  \n",
       "std              6.745237  \n",
       "min              0.000000  \n",
       "25%             10.000000  \n",
       "50%             10.000000  \n",
       "75%             10.000000  \n",
       "max            170.000000  "
      ],
      "text/html": "<div>\n<style scoped>\n    .dataframe tbody tr th:only-of-type {\n        vertical-align: middle;\n    }\n\n    .dataframe tbody tr th {\n        vertical-align: top;\n    }\n\n    .dataframe thead th {\n        text-align: right;\n    }\n</style>\n<table border=\"1\" class=\"dataframe\">\n  <thead>\n    <tr style=\"text-align: right;\">\n      <th></th>\n      <th>tweet_id</th>\n      <th>in_reply_to_status_id</th>\n      <th>in_reply_to_user_id</th>\n      <th>retweeted_status_id</th>\n      <th>retweeted_status_user_id</th>\n      <th>rating_numerator</th>\n      <th>rating_denominator</th>\n    </tr>\n  </thead>\n  <tbody>\n    <tr>\n      <th>count</th>\n      <td>2.356000e+03</td>\n      <td>7.800000e+01</td>\n      <td>7.800000e+01</td>\n      <td>1.810000e+02</td>\n      <td>1.810000e+02</td>\n      <td>2356.000000</td>\n      <td>2356.000000</td>\n    </tr>\n    <tr>\n      <th>mean</th>\n      <td>7.427716e+17</td>\n      <td>7.455079e+17</td>\n      <td>2.014171e+16</td>\n      <td>7.720400e+17</td>\n      <td>1.241698e+16</td>\n      <td>13.126486</td>\n      <td>10.455433</td>\n    </tr>\n    <tr>\n      <th>std</th>\n      <td>6.856705e+16</td>\n      <td>7.582492e+16</td>\n      <td>1.252797e+17</td>\n      <td>6.236928e+16</td>\n      <td>9.599254e+16</td>\n      <td>45.876648</td>\n      <td>6.745237</td>\n    </tr>\n    <tr>\n      <th>min</th>\n      <td>6.660209e+17</td>\n      <td>6.658147e+17</td>\n      <td>1.185634e+07</td>\n      <td>6.661041e+17</td>\n      <td>7.832140e+05</td>\n      <td>0.000000</td>\n      <td>0.000000</td>\n    </tr>\n    <tr>\n      <th>25%</th>\n      <td>6.783989e+17</td>\n      <td>6.757419e+17</td>\n      <td>3.086374e+08</td>\n      <td>7.186315e+17</td>\n      <td>4.196984e+09</td>\n      <td>10.000000</td>\n      <td>10.000000</td>\n    </tr>\n    <tr>\n      <th>50%</th>\n      <td>7.196279e+17</td>\n      <td>7.038708e+17</td>\n      <td>4.196984e+09</td>\n      <td>7.804657e+17</td>\n      <td>4.196984e+09</td>\n      <td>11.000000</td>\n      <td>10.000000</td>\n    </tr>\n    <tr>\n      <th>75%</th>\n      <td>7.993373e+17</td>\n      <td>8.257804e+17</td>\n      <td>4.196984e+09</td>\n      <td>8.203146e+17</td>\n      <td>4.196984e+09</td>\n      <td>12.000000</td>\n      <td>10.000000</td>\n    </tr>\n    <tr>\n      <th>max</th>\n      <td>8.924206e+17</td>\n      <td>8.862664e+17</td>\n      <td>8.405479e+17</td>\n      <td>8.874740e+17</td>\n      <td>7.874618e+17</td>\n      <td>1776.000000</td>\n      <td>170.000000</td>\n    </tr>\n  </tbody>\n</table>\n</div>"
     },
     "metadata": {},
     "execution_count": 78
    }
   ],
   "source": [
    "dogs_info.describe()"
   ]
  },
  {
   "cell_type": "code",
   "execution_count": 88,
   "metadata": {},
   "outputs": [
    {
     "output_type": "execute_result",
     "data": {
      "text/plain": [
       "name\n",
       "Abby            2\n",
       "Ace             1\n",
       "Acro            1\n",
       "Adele           1\n",
       "Aiden           1\n",
       "               ..\n",
       "such            1\n",
       "the             8\n",
       "this            1\n",
       "unacceptable    1\n",
       "very            5\n",
       "Name: tweet_id, Length: 957, dtype: int64"
      ]
     },
     "metadata": {},
     "execution_count": 88
    }
   ],
   "source": [
    "dogs_info.groupby('name').count()['tweet_id']"
   ]
  },
  {
   "cell_type": "code",
   "execution_count": 80,
   "metadata": {},
   "outputs": [
    {
     "output_type": "execute_result",
     "data": {
      "text/plain": [
       "                tweet_id                                          jpg_url  \\\n",
       "0     666020888022790149  https://pbs.twimg.com/media/CT4udn0WwAA0aMy.jpg   \n",
       "1     666029285002620928  https://pbs.twimg.com/media/CT42GRgUYAA5iDo.jpg   \n",
       "2     666033412701032449  https://pbs.twimg.com/media/CT4521TWwAEvMyu.jpg   \n",
       "3     666044226329800704  https://pbs.twimg.com/media/CT5Dr8HUEAA-lEu.jpg   \n",
       "4     666049248165822465  https://pbs.twimg.com/media/CT5IQmsXIAAKY4A.jpg   \n",
       "...                  ...                                              ...   \n",
       "2070  891327558926688256  https://pbs.twimg.com/media/DF6hr6BUMAAzZgT.jpg   \n",
       "2071  891689557279858688  https://pbs.twimg.com/media/DF_q7IAWsAEuuN8.jpg   \n",
       "2072  891815181378084864  https://pbs.twimg.com/media/DGBdLU1WsAANxJ9.jpg   \n",
       "2073  892177421306343426  https://pbs.twimg.com/media/DGGmoV4XsAAUL6n.jpg   \n",
       "2074  892420643555336193  https://pbs.twimg.com/media/DGKD1-bXoAAIAUK.jpg   \n",
       "\n",
       "      img_num                      p1   p1_conf  p1_dog                  p2  \\\n",
       "0           1  Welsh_springer_spaniel  0.465074    True              collie   \n",
       "1           1                 redbone  0.506826    True  miniature_pinscher   \n",
       "2           1         German_shepherd  0.596461    True            malinois   \n",
       "3           1     Rhodesian_ridgeback  0.408143    True             redbone   \n",
       "4           1      miniature_pinscher  0.560311    True          Rottweiler   \n",
       "...       ...                     ...       ...     ...                 ...   \n",
       "2070        2                  basset  0.555712    True    English_springer   \n",
       "2071        1             paper_towel  0.170278   False  Labrador_retriever   \n",
       "2072        1               Chihuahua  0.716012    True            malamute   \n",
       "2073        1               Chihuahua  0.323581    True            Pekinese   \n",
       "2074        1                  orange  0.097049   False               bagel   \n",
       "\n",
       "       p2_conf  p2_dog                           p3   p3_conf  p3_dog  \n",
       "0     0.156665    True            Shetland_sheepdog  0.061428    True  \n",
       "1     0.074192    True          Rhodesian_ridgeback  0.072010    True  \n",
       "2     0.138584    True                   bloodhound  0.116197    True  \n",
       "3     0.360687    True           miniature_pinscher  0.222752    True  \n",
       "4     0.243682    True                     Doberman  0.154629    True  \n",
       "...        ...     ...                          ...       ...     ...  \n",
       "2070  0.225770    True  German_short-haired_pointer  0.175219    True  \n",
       "2071  0.168086    True                      spatula  0.040836   False  \n",
       "2072  0.078253    True                       kelpie  0.031379    True  \n",
       "2073  0.090647    True                     papillon  0.068957    True  \n",
       "2074  0.085851   False                       banana  0.076110   False  \n",
       "\n",
       "[2075 rows x 12 columns]"
      ],
      "text/html": "<div>\n<style scoped>\n    .dataframe tbody tr th:only-of-type {\n        vertical-align: middle;\n    }\n\n    .dataframe tbody tr th {\n        vertical-align: top;\n    }\n\n    .dataframe thead th {\n        text-align: right;\n    }\n</style>\n<table border=\"1\" class=\"dataframe\">\n  <thead>\n    <tr style=\"text-align: right;\">\n      <th></th>\n      <th>tweet_id</th>\n      <th>jpg_url</th>\n      <th>img_num</th>\n      <th>p1</th>\n      <th>p1_conf</th>\n      <th>p1_dog</th>\n      <th>p2</th>\n      <th>p2_conf</th>\n      <th>p2_dog</th>\n      <th>p3</th>\n      <th>p3_conf</th>\n      <th>p3_dog</th>\n    </tr>\n  </thead>\n  <tbody>\n    <tr>\n      <th>0</th>\n      <td>666020888022790149</td>\n      <td>https://pbs.twimg.com/media/CT4udn0WwAA0aMy.jpg</td>\n      <td>1</td>\n      <td>Welsh_springer_spaniel</td>\n      <td>0.465074</td>\n      <td>True</td>\n      <td>collie</td>\n      <td>0.156665</td>\n      <td>True</td>\n      <td>Shetland_sheepdog</td>\n      <td>0.061428</td>\n      <td>True</td>\n    </tr>\n    <tr>\n      <th>1</th>\n      <td>666029285002620928</td>\n      <td>https://pbs.twimg.com/media/CT42GRgUYAA5iDo.jpg</td>\n      <td>1</td>\n      <td>redbone</td>\n      <td>0.506826</td>\n      <td>True</td>\n      <td>miniature_pinscher</td>\n      <td>0.074192</td>\n      <td>True</td>\n      <td>Rhodesian_ridgeback</td>\n      <td>0.072010</td>\n      <td>True</td>\n    </tr>\n    <tr>\n      <th>2</th>\n      <td>666033412701032449</td>\n      <td>https://pbs.twimg.com/media/CT4521TWwAEvMyu.jpg</td>\n      <td>1</td>\n      <td>German_shepherd</td>\n      <td>0.596461</td>\n      <td>True</td>\n      <td>malinois</td>\n      <td>0.138584</td>\n      <td>True</td>\n      <td>bloodhound</td>\n      <td>0.116197</td>\n      <td>True</td>\n    </tr>\n    <tr>\n      <th>3</th>\n      <td>666044226329800704</td>\n      <td>https://pbs.twimg.com/media/CT5Dr8HUEAA-lEu.jpg</td>\n      <td>1</td>\n      <td>Rhodesian_ridgeback</td>\n      <td>0.408143</td>\n      <td>True</td>\n      <td>redbone</td>\n      <td>0.360687</td>\n      <td>True</td>\n      <td>miniature_pinscher</td>\n      <td>0.222752</td>\n      <td>True</td>\n    </tr>\n    <tr>\n      <th>4</th>\n      <td>666049248165822465</td>\n      <td>https://pbs.twimg.com/media/CT5IQmsXIAAKY4A.jpg</td>\n      <td>1</td>\n      <td>miniature_pinscher</td>\n      <td>0.560311</td>\n      <td>True</td>\n      <td>Rottweiler</td>\n      <td>0.243682</td>\n      <td>True</td>\n      <td>Doberman</td>\n      <td>0.154629</td>\n      <td>True</td>\n    </tr>\n    <tr>\n      <th>...</th>\n      <td>...</td>\n      <td>...</td>\n      <td>...</td>\n      <td>...</td>\n      <td>...</td>\n      <td>...</td>\n      <td>...</td>\n      <td>...</td>\n      <td>...</td>\n      <td>...</td>\n      <td>...</td>\n      <td>...</td>\n    </tr>\n    <tr>\n      <th>2070</th>\n      <td>891327558926688256</td>\n      <td>https://pbs.twimg.com/media/DF6hr6BUMAAzZgT.jpg</td>\n      <td>2</td>\n      <td>basset</td>\n      <td>0.555712</td>\n      <td>True</td>\n      <td>English_springer</td>\n      <td>0.225770</td>\n      <td>True</td>\n      <td>German_short-haired_pointer</td>\n      <td>0.175219</td>\n      <td>True</td>\n    </tr>\n    <tr>\n      <th>2071</th>\n      <td>891689557279858688</td>\n      <td>https://pbs.twimg.com/media/DF_q7IAWsAEuuN8.jpg</td>\n      <td>1</td>\n      <td>paper_towel</td>\n      <td>0.170278</td>\n      <td>False</td>\n      <td>Labrador_retriever</td>\n      <td>0.168086</td>\n      <td>True</td>\n      <td>spatula</td>\n      <td>0.040836</td>\n      <td>False</td>\n    </tr>\n    <tr>\n      <th>2072</th>\n      <td>891815181378084864</td>\n      <td>https://pbs.twimg.com/media/DGBdLU1WsAANxJ9.jpg</td>\n      <td>1</td>\n      <td>Chihuahua</td>\n      <td>0.716012</td>\n      <td>True</td>\n      <td>malamute</td>\n      <td>0.078253</td>\n      <td>True</td>\n      <td>kelpie</td>\n      <td>0.031379</td>\n      <td>True</td>\n    </tr>\n    <tr>\n      <th>2073</th>\n      <td>892177421306343426</td>\n      <td>https://pbs.twimg.com/media/DGGmoV4XsAAUL6n.jpg</td>\n      <td>1</td>\n      <td>Chihuahua</td>\n      <td>0.323581</td>\n      <td>True</td>\n      <td>Pekinese</td>\n      <td>0.090647</td>\n      <td>True</td>\n      <td>papillon</td>\n      <td>0.068957</td>\n      <td>True</td>\n    </tr>\n    <tr>\n      <th>2074</th>\n      <td>892420643555336193</td>\n      <td>https://pbs.twimg.com/media/DGKD1-bXoAAIAUK.jpg</td>\n      <td>1</td>\n      <td>orange</td>\n      <td>0.097049</td>\n      <td>False</td>\n      <td>bagel</td>\n      <td>0.085851</td>\n      <td>False</td>\n      <td>banana</td>\n      <td>0.076110</td>\n      <td>False</td>\n    </tr>\n  </tbody>\n</table>\n<p>2075 rows × 12 columns</p>\n</div>"
     },
     "metadata": {},
     "execution_count": 80
    }
   ],
   "source": [
    "image_predictions"
   ]
  },
  {
   "cell_type": "code",
   "execution_count": 81,
   "metadata": {},
   "outputs": [
    {
     "output_type": "stream",
     "name": "stdout",
     "text": [
      "<class 'pandas.core.frame.DataFrame'>\nRangeIndex: 2075 entries, 0 to 2074\nData columns (total 12 columns):\n #   Column    Non-Null Count  Dtype  \n---  ------    --------------  -----  \n 0   tweet_id  2075 non-null   int64  \n 1   jpg_url   2075 non-null   object \n 2   img_num   2075 non-null   int64  \n 3   p1        2075 non-null   object \n 4   p1_conf   2075 non-null   float64\n 5   p1_dog    2075 non-null   bool   \n 6   p2        2075 non-null   object \n 7   p2_conf   2075 non-null   float64\n 8   p2_dog    2075 non-null   bool   \n 9   p3        2075 non-null   object \n 10  p3_conf   2075 non-null   float64\n 11  p3_dog    2075 non-null   bool   \ndtypes: bool(3), float64(3), int64(2), object(4)\nmemory usage: 152.1+ KB\n"
     ]
    }
   ],
   "source": [
    "image_predictions.info()"
   ]
  },
  {
   "cell_type": "code",
   "execution_count": 118,
   "metadata": {},
   "outputs": [
    {
     "output_type": "execute_result",
     "data": {
      "text/plain": [
       "                 id  favorite_count  retweet_count\n",
       "count  2.354000e+03     2354.000000    2354.000000\n",
       "mean   7.426978e+17     8080.968564    3164.797366\n",
       "std    6.852812e+16    11814.771334    5284.770364\n",
       "min    6.660209e+17        0.000000       0.000000\n",
       "25%    6.783975e+17     1415.000000     624.500000\n",
       "50%    7.194596e+17     3603.500000    1473.500000\n",
       "75%    7.993058e+17    10122.250000    3652.000000\n",
       "max    8.924206e+17   132810.000000   79515.000000"
      ],
      "text/html": "<div>\n<style scoped>\n    .dataframe tbody tr th:only-of-type {\n        vertical-align: middle;\n    }\n\n    .dataframe tbody tr th {\n        vertical-align: top;\n    }\n\n    .dataframe thead th {\n        text-align: right;\n    }\n</style>\n<table border=\"1\" class=\"dataframe\">\n  <thead>\n    <tr style=\"text-align: right;\">\n      <th></th>\n      <th>id</th>\n      <th>favorite_count</th>\n      <th>retweet_count</th>\n    </tr>\n  </thead>\n  <tbody>\n    <tr>\n      <th>count</th>\n      <td>2.354000e+03</td>\n      <td>2354.000000</td>\n      <td>2354.000000</td>\n    </tr>\n    <tr>\n      <th>mean</th>\n      <td>7.426978e+17</td>\n      <td>8080.968564</td>\n      <td>3164.797366</td>\n    </tr>\n    <tr>\n      <th>std</th>\n      <td>6.852812e+16</td>\n      <td>11814.771334</td>\n      <td>5284.770364</td>\n    </tr>\n    <tr>\n      <th>min</th>\n      <td>6.660209e+17</td>\n      <td>0.000000</td>\n      <td>0.000000</td>\n    </tr>\n    <tr>\n      <th>25%</th>\n      <td>6.783975e+17</td>\n      <td>1415.000000</td>\n      <td>624.500000</td>\n    </tr>\n    <tr>\n      <th>50%</th>\n      <td>7.194596e+17</td>\n      <td>3603.500000</td>\n      <td>1473.500000</td>\n    </tr>\n    <tr>\n      <th>75%</th>\n      <td>7.993058e+17</td>\n      <td>10122.250000</td>\n      <td>3652.000000</td>\n    </tr>\n    <tr>\n      <th>max</th>\n      <td>8.924206e+17</td>\n      <td>132810.000000</td>\n      <td>79515.000000</td>\n    </tr>\n  </tbody>\n</table>\n</div>"
     },
     "metadata": {},
     "execution_count": 118
    }
   ],
   "source": [
    "tweet_info.describe()"
   ]
  },
  {
   "cell_type": "code",
   "execution_count": 119,
   "metadata": {},
   "outputs": [
    {
     "output_type": "stream",
     "name": "stdout",
     "text": [
      "<class 'pandas.core.frame.DataFrame'>\nRangeIndex: 2354 entries, 0 to 2353\nData columns (total 3 columns):\n #   Column          Non-Null Count  Dtype\n---  ------          --------------  -----\n 0   id              2354 non-null   int64\n 1   favorite_count  2354 non-null   int64\n 2   retweet_count   2354 non-null   int64\ndtypes: int64(3)\nmemory usage: 55.3 KB\n"
     ]
    }
   ],
   "source": [
    "tweet_info.info()"
   ]
  },
  {
   "source": [
    "#### Quality\n",
    "##### `dogs_info` table\n",
    "- Missing dog names in the `name` column\n",
    "- Retweeted tweets and replies in table\n",
    "- `Timestamp` column is an object not a datetime \n",
    "- Presence of other animals other than dogs \n",
    "- wrong `name` (officially, by, the, infuriating, a, quite, not, one, my, actually, all, his, an, mad)\n",
    "- Some rating denominator values are'nt 10\n",
    "- Erroneous datatypes (assigned sex, state, zip_code, and birthdate columns)\n",
    "- Multiple phone number formats\n",
    "- Default John Doe data\n",
    "- Multiple records for Jakobsen, Gersten, Taylor\n",
    "- kgs instead of lbs for Zaitseva weight\n",
    "\n",
    "##### `image_predictions` table\n",
    "- No dogs in the predictions\n",
    "- Missing data\n",
    "- Lowercase given names and surnames\n",
    "- Missing records (280 instead of 350)\n",
    "- Erroneous datatypes (auralin and novodra columns)\n",
    "- Inaccurate HbA1c changes (leading 4s mistaken as 9s)\n",
    "- Nulls represented as dashes (-) in auralin and novodra columns\n",
    "\n",
    "##### `tweet_info` table\n",
    "- Retweeted tweets and replies in table\n",
    "- Missing data"
   ],
   "cell_type": "markdown",
   "metadata": {}
  },
  {
   "source": [
    "#### Tidiness\n",
    "- Contact column in `patients` table should be split into phone number and email\n",
    "- One variables in four columns in `dogs_info` table (pupper, puppo, doggo, and floofer) are all dog_types\n",
    "- Adverse reaction should be part of the `treatments` table\n",
    "- Given name and surname columns in `patients` table duplicated in `treatments` and `adverse_reactions` tables"
   ],
   "cell_type": "markdown",
   "metadata": {}
  },
  {
   "cell_type": "code",
   "execution_count": null,
   "metadata": {},
   "outputs": [],
   "source": []
  }
 ],
 "metadata": {
  "kernelspec": {
   "display_name": "Python 3",
   "language": "python",
   "name": "python3"
  },
  "language_info": {
   "codemirror_mode": {
    "name": "ipython",
    "version": 3
   },
   "file_extension": ".py",
   "mimetype": "text/x-python",
   "name": "python",
   "nbconvert_exporter": "python",
   "pygments_lexer": "ipython3",
   "version": "3.8.5-final"
  }
 },
 "nbformat": 4,
 "nbformat_minor": 2
}